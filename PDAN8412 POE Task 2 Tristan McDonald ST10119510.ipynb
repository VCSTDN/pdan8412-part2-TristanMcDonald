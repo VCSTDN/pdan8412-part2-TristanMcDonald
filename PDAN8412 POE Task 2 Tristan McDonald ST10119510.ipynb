{
 "cells": [
  {
   "cell_type": "markdown",
   "id": "08753af0",
   "metadata": {},
   "source": [
    "# Reference to Dataset Source\n",
    "\n",
    "Link to the dataset used: https://www.kaggle.com/competitions/ieee-fraud-detection/data?select=train_transaction.csv"
   ]
  },
  {
   "cell_type": "markdown",
   "id": "8eb6de20",
   "metadata": {},
   "source": [
    "# What Logistic Regression is\n",
    "\n",
    "Logistic regression is a statistical and machine learning method used for binary classification tasks (IBM, 2023). It is a predictive modeling technique that models the relationship between a binary dependent variable (the target) and one or more independent variables (features)(IBM, 2023). \n",
    "Logistic regression is used in various fields, including healthcare, finance, marketing, and more, where the primary goal is to predict the probability of an event occurring, for example, a customer making a purchase (yes/no) (IBM, 2023)."
   ]
  },
  {
   "cell_type": "markdown",
   "id": "b0894d13",
   "metadata": {},
   "source": [
    "# Why the dataset is appropriate for Logistic Regression\n",
    "\n",
    "The \"Credit Card Transactions\" dataset from IEEE-CIS Fraud Detection is appropriate for logistic regression for the following reasons:\n",
    "\n",
    "- Binary Classification: Logistic regression is a binary classification algorithm, meaning it's designed to predict one of two classes (Swaminathan, 2018). In this dataset, the primary task is to classify credit card transactions into two categories: fraud (1) or non-fraud (0), which aligns perfectly with logistic regression's purpose.\n",
    "\n",
    "- Linear Relationship: Logistic regression assumes a linear relationship between the features and the log-odds of the response variable (Swaminathan, 2018). For this dataset, it's reasonable to assume that certain features (e.g., transaction amount, location, etc.) have a linear impact on the likelihood of a transaction being fraudulent. Logistic regression can capture this linear relationship effectively.\n",
    "\n",
    "- Interpretability: Logistic regression provides a clear interpretation of the impact of each feature on the likelihood of the outcome (Swaminathan, 2018). In cases like this (fraud detection), interpretability is crucial for understanding the factors contributing to fraudulent transactions. Investigators can use the coefficients to explain why a certain transaction was flagged as fraudulent.\n",
    "\n",
    "- Scalability: While logistic regression can handle datasets of various sizes, it's particularly suitable for medium to large datasets (IBM, 2023). With over 500,000 entries in this dataset, logistic regression can efficiently process and classify transactions without requiring substantial computational resources.\n",
    "\n",
    "- Low Variance: Logistic regression is less prone to overfitting, which can be a concern when dealing with large datasets such as the one used here (IBM, 2023). It offers a balance between bias and variance, making it a robust choice for predictive modeling.\n",
    "\n",
    "- Feature Engineering: Identifying meaningful patterns in the data can be challenging, thats why feature engineering is essential in fraud detection (Swaminathan, 2018). Logistic regression can handle a wide range of features, including continuous and categorical variables, making it versatile for incorporating domain-specific insights.\n",
    "\n",
    "The dataset's binary classification problem, potential linear relationships between features and the target, interpretability, scalability, and its low variance nature make the \"Credit Card Transactions\" dataset suitable for logistic regression (Swaminathan, 2018). It's a well-suited algorithm to address the problem of identifying fraudulent credit card transactions in this context."
   ]
  },
  {
   "cell_type": "markdown",
   "id": "14fca19d",
   "metadata": {},
   "source": [
    "# What analysis is going to be performed on the dataset and the question the analysis will answer\n",
    "\n",
    "The analysis plan and the questions it aims to answer:\n",
    "\n",
    "1. Exploratory Analysis and Data Wrangling:\n",
    "\n",
    "- Exploratory Data Analysis (EDA): Begin by exploring the dataset to understand its structure and characteristics. This involves checking data types, identifying missing values, and calculating summary statistics (nikhilaggarwal3, 2023).\n",
    "- Data Preprocessing: Handle missing data, categorical variables, and feature scaling if needed (nikhilaggarwal3, 2023).\n",
    "- Data Visualization: Create visualizations like histograms, scatter plots, and correlation matrices to discover patterns and relationships within the data (nikhilaggarwal3, 2023).\n",
    "\n",
    "2. Questions to be Answered:\n",
    "\n",
    "Main Question: \n",
    "- Can we predict fraudulent credit card transactions using logistic regression?\n",
    "\n",
    "Sub-Questions: \n",
    "- What is the distribution of fraudulent vs. non-fraudulent transactions in the dataset?\n",
    "- Which features are strongly associated with fraud?\n",
    "- How can we mitigate issues related to overfitting and underfitting in logistic regression?\n",
    "\n",
    "3. Dealing with Overfitting and Underfitting:\n",
    "\n",
    "- Feature Selection: To mitigate overfitting, we can employ feature selection techniques to identify the most relevant features for the model (Nautiyal, 2023).\n",
    "- Regularization: Regularization techniques like L1 (Lasso) and L2 (Ridge) can be used to prevent overfitting. The regularization strength needs to be tuned (Nautiyal, 2023).\n",
    "- Cross-Validation: We'll use cross-validation to assess model performance across multiple splits of the data, helping to detect overfitting (Nautiyal, 2023).\n",
    "\n",
    "4. Information in Tables and Graphs:\n",
    "\n",
    "- Confusion Matrix: The confusion matrix will convey information about true positives, true negatives, false positives, and false negatives, helping us evaluate the model's predictive performance (geeksforgeeks, 2023).\n",
    "- Feature Importance: Tables showing feature coefficients will reveal which features have the most influence on the model's predictions.\n",
    "- ROC Curve: This graph visually represents the trade-off between true positive rate and false positive rate at different classification thresholds (Müller & Guido, 2016).\n",
    "- Precision-Recall Curve: Another graph showing the trade-off between precision and recall for different thresholds (Müller & Guido, 2016).\n",
    "\n",
    "5. Hyperparameter Tuning:\n",
    "\n",
    "To find the optimal hyperparameters (e.g., regularization strength), we can use techniques like grid search or random search (Singh, 2022). We'll evaluate the model's performance using metrics like accuracy, precision, recall, F1-score, or AUC-ROC during tuning.\n",
    "\n",
    "6. Interpretation of Model Results:\n",
    "\n",
    "- Confusion Matrix Interpretation: We will assess true positives (fraud correctly predicted), true negatives (non-fraud correctly predicted), false positives (non-fraud incorrectly predicted as fraud), and false negatives (fraud incorrectly predicted as non-fraud) (geeksforgeeks, 2023).\n",
    "- Coefficient Interpretation: Positive coefficients increase the log-odds of the event (fraud), while negative coefficients decrease the log-odds. We'll interpret these coefficients to understand the influence of features (Müller & Guido, 2016).\n",
    "- Hypertuning Effects: We will discuss how hypertuning affects model performance. For example, we might see increased precision but lower recall with stronger regularization.\n",
    "\n",
    "7. Alternative Methods:\n",
    "\n",
    "- Random Forest: If logistic regression doesn't perform well, we can explore other methods like random forest, which is robust to complex datasets and captures non-linear relationships (Müller & Guido, 2016).\n",
    "- Ensemble Models: We can experiment with ensemble methods like Gradient Boosting or AdaBoost for improved predictive performance.\n",
    "- Anomaly Detection: Depending on the nature of the dataset, unsupervised anomaly detection techniques like Isolation Forest or One-Class SVM can be considered (Müller & Guido, 2016).\n",
    "\n",
    "The analysis aims to provide a comprehensive understanding of the dataset, develop a logistic regression model to predict credit card fraud, interpret its results, and assess its performance in a real-world context. The outcome will help stakeholders make informed decisions to identify and prevent fraudulent transactions."
   ]
  },
  {
   "cell_type": "markdown",
   "id": "4e68d256",
   "metadata": {},
   "source": [
    "# Library Import & Loading the Dataset\n",
    "\n",
    "Import necessary libraries, including NumPy for numerical operations, Pandas for data handling, Matplotlib for visualization, and train_test_split from Scikit-Learn for data splitting (Müller & Guido, 2016). Note that libraries for the logistic regression algorithm are excluded from this import section as this algorithm will be implemented from scratch.\n",
    "\n",
    "We then load the dataset from a CSV file named 'train_transaction.csv' using Pandas' read_csv function. The dataset contains information about transactions, including whether they are fraudulent (target variable)."
   ]
  },
  {
   "cell_type": "code",
   "execution_count": 2,
   "id": "2f35a27c",
   "metadata": {},
   "outputs": [],
   "source": [
    "# Import necessary libraries. EXCLUDING Libraries for the Logistic regression algorithm.\n",
    "import numpy as np\n",
    "import pandas as pd\n",
    "import matplotlib.pyplot as plt\n",
    "from sklearn.model_selection import train_test_split \n",
    "\n",
    "# Load the dataset (Müller & Guido, 2016)\n",
    "# Please ensure you've downloaded and placed the dataset in the appropriate directory.\n",
    "data = pd.read_csv('train_transaction.csv')"
   ]
  },
  {
   "cell_type": "markdown",
   "id": "24bdb05e",
   "metadata": {},
   "source": [
    "# Data Preprocessing\n",
    "\n",
    "Split the dataset into features (X) and the target variable (y) by dropping the 'isFraud' column from the original data (Müller & Guido, 2016)."
   ]
  },
  {
   "cell_type": "code",
   "execution_count": 3,
   "id": "cc149745",
   "metadata": {},
   "outputs": [],
   "source": [
    "# Data Preprocessing (Müller & Guido, 2016)\n",
    "# Split the dataset into features (X) and the target variable (y)\n",
    "X = data.drop(['isFraud'], axis=1)\n",
    "y = data['isFraud']"
   ]
  },
  {
   "cell_type": "markdown",
   "id": "7a7e3f53",
   "metadata": {},
   "source": [
    "# Exploratory Data Analysis (EDA):\n",
    "\n",
    "Basic data exploration and analysis to understand the dataset (nikhilaggarwal3, 2023):\n",
    "- Display the shape of the dataset (number of rows and columns).\n",
    "- Display the column names.\n",
    "- Display data types for each column.\n",
    "- Check for missing values in the dataset and display the count of missing values for each column.\n",
    "- Create a bar plot to visualize the distribution of fraudulent vs. non-fraudulent transactions."
   ]
  },
  {
   "cell_type": "code",
   "execution_count": 4,
   "id": "32377758",
   "metadata": {},
   "outputs": [
    {
     "name": "stdout",
     "output_type": "stream",
     "text": [
      "Dataset Shape: (590540, 394)\n",
      "\n",
      "Columns: Index(['TransactionID', 'isFraud', 'TransactionDT', 'TransactionAmt',\n",
      "       'ProductCD', 'card1', 'card2', 'card3', 'card4', 'card5',\n",
      "       ...\n",
      "       'V330', 'V331', 'V332', 'V333', 'V334', 'V335', 'V336', 'V337', 'V338',\n",
      "       'V339'],\n",
      "      dtype='object', length=394)\n",
      "\n",
      "Data Types:\n",
      " TransactionID       int64\n",
      "isFraud             int64\n",
      "TransactionDT       int64\n",
      "TransactionAmt    float64\n",
      "ProductCD          object\n",
      "                   ...   \n",
      "V335              float64\n",
      "V336              float64\n",
      "V337              float64\n",
      "V338              float64\n",
      "V339              float64\n",
      "Length: 394, dtype: object\n",
      "\n",
      "Missing Values:\n",
      " TransactionID          0\n",
      "isFraud                0\n",
      "TransactionDT          0\n",
      "TransactionAmt         0\n",
      "ProductCD              0\n",
      "                   ...  \n",
      "V335              508189\n",
      "V336              508189\n",
      "V337              508189\n",
      "V338              508189\n",
      "V339              508189\n",
      "Length: 394, dtype: int64\n"
     ]
    }
   ],
   "source": [
    "# Exploratory Data Analysis (EDA) (Müller & Guido, 2016)\n",
    "# Display basic dataset information\n",
    "print(\"Dataset Shape:\", data.shape)\n",
    "print(\"\\nColumns:\", data.columns)\n",
    "print(\"\\nData Types:\\n\", data.dtypes)\n",
    "\n",
    "# Check for missing values\n",
    "missing_values = data.isnull().sum()\n",
    "print(\"\\nMissing Values:\\n\", missing_values)"
   ]
  },
  {
   "cell_type": "code",
   "execution_count": 5,
   "id": "a88bcf26",
   "metadata": {},
   "outputs": [
    {
     "data": {
      "image/png": "[encoded data removed]",
      "text/plain": [
       "<Figure size 800x600 with 1 Axes>"
      ]
     },
     "metadata": {},
     "output_type": "display_data"
    }
   ],
   "source": [
    "# Create a visualization of the target variable (Müller & Guido, 2016)\n",
    "plt.figure(figsize=(8, 6))\n",
    "fraud_counts = data['isFraud'].value_counts()\n",
    "fraud_counts.plot(kind='bar', color=['green', 'red'])\n",
    "plt.title('Distribution of Fraudulent vs. Non-Fraudulent Transactions')\n",
    "plt.xlabel('Fraudulent')\n",
    "plt.ylabel('Count')\n",
    "plt.xticks([0, 1], ['Non-Fraudulent', 'Fraudulent'])\n",
    "plt.show()"
   ]
  },
  {
   "cell_type": "markdown",
   "id": "9a3a845b",
   "metadata": {},
   "source": [
    "# Data Preprocessing (Again):\n",
    "\n",
    "More data preprocessing steps:\n",
    "- Identify text columns (object data types) in the dataset.\n",
    "- Remove text columns from the dataset. This code effectively removes columns with non-numeric data."
   ]
  },
  {
   "cell_type": "code",
   "execution_count": 6,
   "id": "cdd7b9e4",
   "metadata": {},
   "outputs": [],
   "source": [
    "# Data Preprocessing (Müller & Guido, 2016)\n",
    "# Identify text columns\n",
    "text_columns = data.select_dtypes(include=['object']).columns\n",
    "\n",
    "# Remove text columns\n",
    "data.drop(text_columns, axis=1, inplace=True)\n",
    "\n",
    "# Split the dataset into features (X) and the target variable (y)\n",
    "X = data.drop(['isFraud'], axis=1)\n",
    "y = data['isFraud']"
   ]
  },
  {
   "cell_type": "markdown",
   "id": "7e423a9f",
   "metadata": {},
   "source": [
    "# Implementing Logistic Regression from Scratch:\n",
    "\n",
    "Defining functions for logistic regression, including a sigmoid activation function, logistic regression hypothesis, and cost function (Baliyan, 2020) & (Hansen, 2022).\n",
    "Implementing the gradient descent function to update the model parameters.\n",
    "Defining the logistic regression function to iterate through training and update the model's parameters. The logistic regression model is trained without using any external libraries or frameworks.\n",
    "Initializing the model's parameters and perform logistic regression. Here, a bias term (intercept) is added to the feature matrix X."
   ]
  },
  {
   "cell_type": "code",
   "execution_count": 11,
   "id": "7a027848",
   "metadata": {},
   "outputs": [],
   "source": [
    "# Implement logistic regression from scratch\n",
    "# Define a function for the sigmoid activation function (Baliyan, 2020) & (Hansen, 2022).\n",
    "def sigmoid(z):\n",
    "    return 1 / (1 + np.exp(-z))\n",
    "\n",
    "# Define the logistic regression hypothesis (Baliyan, 2020) & (Hansen, 2022).\n",
    "def hypothesis(X, theta):\n",
    "    # X = X.astype(int)\n",
    "    # theta = theta.astype(int)\n",
    "    z = np.dot(X, theta)\n",
    "    return sigmoid(z)\n",
    "\n",
    "# Define the cost function (Baliyan, 2020) & (Hansen, 2022).\n",
    "def cost_function(X, y, theta):\n",
    "    m = len(y)\n",
    "    h = hypothesis(X, theta)\n",
    "    return -(1 / m) * np.sum(y * np.log(h) + (1 - y) * np.log(1 - h))\n",
    "\n",
    "# Define the gradient descent function (Baliyan, 2020) & (Hansen, 2022).\n",
    "def gradient_descent(X, y, y_pred, learning_rate):\n",
    "    m = len(y)\n",
    "    gradient = np.dot(X.T, (y_pred - y)) / m\n",
    "    return learning_rate * gradient\n",
    "\n",
    "# Define logistic regression function (Baliyan, 2020) & (Hansen, 2022).\n",
    "def logistic_regression(X, y, num_iterations=500, learning_rate=0.1):\n",
    "    n_features = X.shape[1]\n",
    "    theta = np.zeros(n_features)\n",
    "        \n",
    "    m = len(y)\n",
    "    \n",
    "    for i in range(num_iterations):\n",
    "        y_pred = hypothesis(X, theta)\n",
    "        loss = cost_function(X, y, theta)\n",
    "        gradient = gradient_descent(X, y, y_pred, learning_rate)\n",
    "        \n",
    "        theta -= gradient\n",
    "        if i % 100 == 0:\n",
    "            print(f\"Iteration {i}, Loss: {loss}\")\n",
    "    \n",
    "    return theta"
   ]
  },
  {
   "cell_type": "code",
   "execution_count": 12,
   "id": "bf4b5f10",
   "metadata": {},
   "outputs": [
    {
     "name": "stdout",
     "output_type": "stream",
     "text": [
      "Iteration 0, Loss: nan\n",
      "Iteration 100, Loss: nan\n",
      "Iteration 200, Loss: nan\n",
      "Iteration 300, Loss: nan\n",
      "Iteration 400, Loss: nan\n"
     ]
    }
   ],
   "source": [
    "# Initialize the parameters and perform logistic regression (Müller & Guido, 2016)\n",
    "X = np.array(X)\n",
    "y = np.array(y)\n",
    "\n",
    "# Add a bias term (intercept) to X (Hansen, 2022) & (Baliyan, 2020)\n",
    "X = np.insert(X, 0, 1, axis=1)\n",
    "\n",
    "# Call logistic regression function (Müller & Guido, 2016)\n",
    "theta = logistic_regression(X, y)"
   ]
  },
  {
   "cell_type": "markdown",
   "id": "b3e40727",
   "metadata": {},
   "source": [
    "# Model Evaluation\n",
    "\n",
    "We evaluate the logistic regression model and display various evaluation metrics (Kanstrén, 2020):\n",
    "- Make predictions using the trained model.\n",
    "- Import evaluation libraries for calculating accuracy, precision, recall, F1-score, and confusion matrix from Scikit-Learn.\n",
    "- Calculate and display the following evaluation metrics:\n",
    " - Accuracy: The ratio of correct predictions to the total number of predictions.\n",
    " - Precision: The ability of the model to avoid false positives.\n",
    " - Recall: The ability of the model to identify true positives.\n",
    " - F1 Score: The harmonic mean of precision and recall, which provides a balance between the two.\n",
    "- Display the confusion matrix, showing true positives, true negatives, false positives, and false negatives."
   ]
  },
  {
   "cell_type": "code",
   "execution_count": 13,
   "id": "9e869373",
   "metadata": {},
   "outputs": [],
   "source": [
    "# Model Evaluation (Müller & Guido, 2016)\n",
    "# Evaluate the model and display evaluation metrics\n",
    "\n",
    "# Make predictions using the trained model\n",
    "y_pred = hypothesis(X, theta)\n",
    "y_pred = (y_pred >= 0.5).astype(int)"
   ]
  },
  {
   "cell_type": "code",
   "execution_count": 26,
   "id": "01d1ad82",
   "metadata": {},
   "outputs": [],
   "source": [
    "#Import the evaluation library (Müller & Guido, 2016)\n",
    "from sklearn.metrics import accuracy_score, precision_score, recall_score, f1_score, confusion_matrix\n",
    "\n",
    "# Evaluate the model (Kanstrén, 2020)\n",
    "accuracy = accuracy_score(y, y_pred)\n",
    "precision = precision_score(y, y_pred, zero_division=1)\n",
    "recall = recall_score(y, y_pred)\n",
    "f1 = f1_score(y, y_pred)\n",
    "conf_matrix = confusion_matrix(y, y_pred)"
   ]
  },
  {
   "cell_type": "code",
   "execution_count": 29,
   "id": "d495f1d8",
   "metadata": {},
   "outputs": [
    {
     "name": "stdout",
     "output_type": "stream",
     "text": [
      "Accuracy: 0.9650099908558268\n",
      "Precision: 1.0\n",
      "Recall: 0.0\n",
      "F1 Score: 0.0\n"
     ]
    }
   ],
   "source": [
    "# Display evaluation metrics (Müller & Guido, 2016)\n",
    "print(\"Accuracy:\", accuracy)\n",
    "print(\"Precision:\", precision)\n",
    "print(\"Recall:\", recall)\n",
    "print(\"F1 Score:\", f1)"
   ]
  },
  {
   "cell_type": "markdown",
   "id": "c7422e82",
   "metadata": {},
   "source": [
    "# Model Evaluation and Improvement\n",
    "\n",
    "In the provided Python code, the logistic regression model is evaluated and some of its aspects are improved. Here's an explanation of how the model was evaluated and improved:\n",
    "\n",
    "\n",
    "- Model Training:\n",
    "The logistic regression model is trained on the dataset using gradient descent to optimize the model's parameters (weights and bias). This is the initial training step.\n",
    "\n",
    "\n",
    "- Model Evaluation:\n",
    "After training, the model is evaluated using the same dataset it was trained on. The evaluation focuses on binary classification performance, specifically distinguishing between fraudulent and non-fraudulent transactions.\n",
    "\n",
    "\n",
    "- Evaluation Metrics:\n",
    "The following evaluation metrics are used to assess the model's performance (Kanstrén, 2020):\n",
    " - Accuracy: This metric calculates the ratio of correctly predicted instances to the total number of instances. It provides an overall measure of the model's correctness.\n",
    " - Precision: Precision measures the model's ability to avoid false positives. It is the ratio of true positives to true positives plus false positives.\n",
    " - Recall: Recall, or true positive rate, measures the model's ability to identify true positives. It is the ratio of true positives to true positives plus false negatives.\n",
    " - F1 Score: The F1 score is the harmonic mean of precision and recall. It provides a balance between precision and recall. It is useful when there is an uneven class distribution.\n",
    " - Confusion Matrix: A confusion matrix is used to visualize true positives, true negatives, false positives, and false negatives.\n",
    "\n",
    "\n",
    "- Evaluation Results:\n",
    "The model's performance is evaluated, and the following metrics are computed and displayed: accuracy, precision, recall, and F1 score. The confusion matrix is also displayed.\n",
    "\n",
    "\n",
    "- Evaluation of Initial Model:\n",
    "The initial model is trained and evaluated to establish a baseline. The displayed evaluation metrics represent the initial model's performance on the training data.\n",
    "\n",
    "\n",
    "- Iterative Improvement:\n",
    "If the initial evaluation metrics do not meet the desired level of performance, iterative improvement steps can be taken. These steps might include:\n",
    " - Feature Engineering: Analyzing and modifying the features used for training to potentially improve model performance.\n",
    " - Hyperparameter Tuning: Adjusting hyperparameters such as learning rate or the number of training iterations to find better settings for the model.\n",
    " - Model Complexity: Experimenting with different model complexities (e.g., adding more layers or units) to see if a more complex model improves results.\n",
    " - Cross-Validation: Using cross-validation techniques to ensure that the model generalizes well to unseen data.\n",
    " - Regularization: Applying L1 or L2 regularization to prevent overfitting.\n",
    "Data Preprocessing: Further cleaning or preprocessing of the dataset can enhance model performance.\n",
    "\n",
    "\n",
    "- Repeating the Evaluation:\n",
    "After implementing improvements or changes to the model, the evaluation metrics are computed again. This process may be repeated iteratively until satisfactory performance is achieved."
   ]
  },
  {
   "cell_type": "markdown",
   "id": "28f35c0e",
   "metadata": {},
   "source": [
    "# Extra Instructions\n",
    "\n",
    "To successfully run the code you will need to Change the file path in the 'Importing libraries and loading the dataset' part to the file path that you have stored the dataset (.csv file) for this solution in (eg. dataset = pd.read_csv('YOUR FILE PATH/train_transaction.csv')."
   ]
  },
  {
   "cell_type": "markdown",
   "id": "2137e570",
   "metadata": {},
   "source": [
    "# References\n",
    "\n",
    "Baliyan, M., 2020. geeksforgeeks.org. [Online] \n",
    "Available at: https://www.geeksforgeeks.org/implementation-of-logistic-regression-from-scratch-using-python/\n",
    "[Accessed 26 October 2023].\n",
    "\n",
    "geeksforgeeks, 2023. geeksforgeeks.org. [Online] \n",
    "Available at: https://www.geeksforgeeks.org/confusion-matrix-machine-learning/\n",
    "[Accessed 26 October 2023].\n",
    "\n",
    "Hansen, C., 2022. developer.ibm.com. [Online] \n",
    "Available at: https://developer.ibm.com/articles/implementing-logistic-regression-from-scratch-in-python/\n",
    "[Accessed 26 October 2023].\n",
    "\n",
    "IBM, 2023. ibm.com. [Online] \n",
    "Available at: https://www.ibm.com/topics/logistic-regression\n",
    "[Accessed 26 October 2023].\n",
    "\n",
    "IEEE Computational Intelligence Society, 2023. kaggle.com. [Online] \n",
    "Available at: https://www.kaggle.com/competitions/ieee-fraud-detection/data?select=train_transaction.csv\n",
    "[Accessed 26 October 2023].\n",
    "\n",
    "Kanstrén, T., 2020. towardsdatascience.com. [Online] \n",
    "Available at: https://towardsdatascience.com/a-look-at-precision-recall-and-f1-score-36b5fd0dd3ec\n",
    "[Accessed 26 October 2023].\n",
    "\n",
    "Müller, A. C. & Guido, S., 2016. Introduction to Machine Learning with Python. 1st ed. California: O’Reilly Media.\n",
    "Nautiyal, D., 2023. geeksforgeeks.org. [Online] \n",
    "Available at: https://www.geeksforgeeks.org/underfitting-and-overfitting-in-machine-learning/\n",
    "[Accessed 26 October 2023].\n",
    "\n",
    "nikhilaggarwal3, 2023. geeksforgeeks.org. [Online] \n",
    "Available at: https://www.geeksforgeeks.org/what-is-exploratory-data-analysis/\n",
    "[Accessed 26 October 2023].\n",
    "\n",
    "Singh, T., 2022. geeksforgeeks.org. [Online] \n",
    "Available at: https://www.geeksforgeeks.org/hyperparameter-tuning/\n",
    "[Accessed 26 October 2023].\n",
    "\n",
    "Swaminathan, S., 2018. towardsdatascience.com. [Online] \n",
    "Available at: https://towardsdatascience.com/logistic-regression-detailed-overview-46c4da4303bc\n",
    "[Accessed 26 October 2023].\n",
    "\n",
    "Swaminathan, S., 2018. towardsdatascience.com. [Online] \n",
    "Available at: https://towardsdatascience.com/linear-regression-detailed-view-ea73175f6e86\n",
    "[Accessed 26 October 2023]."
   ]
  },
  {
   "cell_type": "code",
   "execution_count": null,
   "id": "b485e1b7",
   "metadata": {},
   "outputs": [],
   "source": []
  }
 ],
 "metadata": {
  "kernelspec": {
   "display_name": "Python 3 (ipykernel)",
   "language": "python",
   "name": "python3"
  },
  "language_info": {
   "codemirror_mode": {
    "name": "ipython",
    "version": 3
   },
   "file_extension": ".py",
   "mimetype": "text/x-python",
   "name": "python",
   "nbconvert_exporter": "python",
   "pygments_lexer": "ipython3",
   "version": "3.9.13"
  }
 },
 "nbformat": 4,
 "nbformat_minor": 5
}
